{
 "cells": [
  {
   "cell_type": "markdown",
   "id": "941f0627",
   "metadata": {},
   "source": [
    "# Trabalho Final de SGBD"
   ]
  },
  {
   "cell_type": "markdown",
   "id": "84fe3a67",
   "metadata": {},
   "source": [
    "Importando os recursos necessários."
   ]
  },
  {
   "cell_type": "code",
   "execution_count": 72,
   "id": "26517ae0",
   "metadata": {},
   "outputs": [],
   "source": [
    "import pandas as pd\n",
    "import numpy as np"
   ]
  },
  {
   "cell_type": "markdown",
   "id": "b60ff8c1",
   "metadata": {},
   "source": [
    "Lendo o arquivo CSS."
   ]
  },
  {
   "cell_type": "code",
   "execution_count": 73,
   "id": "72ee38cb",
   "metadata": {},
   "outputs": [
    {
     "name": "stderr",
     "output_type": "stream",
     "text": [
      "C:\\Users\\Acer\\anaconda3\\lib\\site-packages\\IPython\\core\\interactiveshell.py:3165: DtypeWarning: Columns (21) have mixed types.Specify dtype option on import or set low_memory=False.\n",
      "  has_raised = await self.run_ast_nodes(code_ast.body, cell_name,\n"
     ]
    }
   ],
   "source": [
    "df = pd.read_csv('sinasc_nascimentos.csv')"
   ]
  },
  {
   "cell_type": "code",
   "execution_count": 74,
   "id": "a91b05f5",
   "metadata": {},
   "outputs": [
    {
     "name": "stdout",
     "output_type": "stream",
     "text": [
      "<class 'pandas.core.frame.DataFrame'>\n",
      "RangeIndex: 190612 entries, 0 to 190611\n",
      "Data columns (total 20 columns):\n",
      " #   Column                  Non-Null Count   Dtype \n",
      "---  ------                  --------------   ----- \n",
      " 0   data_nascimento         190612 non-null  object\n",
      " 1   escolaridade_mae        190532 non-null  object\n",
      " 2   raca_mae                187450 non-null  object\n",
      " 3   estado_civil_mae        190553 non-null  object\n",
      " 4   nascimento_mae          187457 non-null  object\n",
      " 5   ocupacao                190433 non-null  object\n",
      " 6   nro_consultas_prenatal  190612 non-null  object\n",
      " 7   cesaria_antes_parto     94676 non-null   object\n",
      " 8   duracao_gestacao        190504 non-null  object\n",
      " 9   gravidez                190582 non-null  object\n",
      " 10  local_nascimento        190612 non-null  object\n",
      " 11  parto                   190594 non-null  object\n",
      " 12  trabalho_parto          186804 non-null  object\n",
      " 13  apresentacao_crianca    187183 non-null  object\n",
      " 14  classe_robson           21475 non-null   object\n",
      " 15  peso                    190612 non-null  int64 \n",
      " 16  possui_anomalia         190574 non-null  object\n",
      " 17  cid_anomalia            2671 non-null    object\n",
      " 18  sexo                    190592 non-null  object\n",
      " 19  raca                    3052 non-null    object\n",
      "dtypes: int64(1), object(19)\n",
      "memory usage: 29.1+ MB\n"
     ]
    }
   ],
   "source": [
    "# Algumas colunas não serão analisadas.\n",
    "df = df.drop(['data_extracao', 'cbo_mae'], axis = 1)\n",
    "df.info();"
   ]
  },
  {
   "cell_type": "markdown",
   "id": "95ed6a95",
   "metadata": {},
   "source": [
    "### Etapa de pré-processamento"
   ]
  },
  {
   "cell_type": "code",
   "execution_count": 75,
   "id": "9eda97ac",
   "metadata": {},
   "outputs": [],
   "source": [
    "from sklearn.model_selection import train_test_split\n",
    "\n",
    "# Separando os conjuntos de dados de treino e teste.\n",
    "df_treino, df_teste = train_test_split(df, test_size = 0.2, random_state = 42)\n",
    "\n",
    "# Separando a coluna alvo do conjunto de treino.\n",
    "df_treino_labels = df_treino['possui_anomalia'].copy()\n",
    "df_treino = df_treino.drop(columns = 'possui_anomalia')\n",
    "\n",
    "# Separando a coluna alvo do conjunto de teste.\n",
    "df_teste_labels = df_teste['possui_anomalia'].copy()\n",
    "df_teste = df_teste.drop(columns = 'possui_anomalia')"
   ]
  },
  {
   "cell_type": "code",
   "execution_count": 76,
   "id": "c061dd5e",
   "metadata": {},
   "outputs": [],
   "source": [
    "# Imports necessários para o pré-processamento.\n",
    "from sklearn.impute import SimpleImputer\n",
    "from sklearn.preprocessing import StandardScaler\n",
    "from sklearn.preprocessing import OneHotEncoder\n",
    "\n",
    "from sklearn.pipeline import Pipeline\n",
    "from sklearn.compose import ColumnTransformer"
   ]
  },
  {
   "cell_type": "code",
   "execution_count": 77,
   "id": "980e3840",
   "metadata": {},
   "outputs": [],
   "source": [
    "# Classificando os atributos como numéricos, categóricos ou binários.\n",
    "nomes_atributos_numericos = ['peso']\n",
    "nomes_atributos_categoricos = ['data_nascimento', 'escolaridade_mae', 'raca_mae', 'estado_civil_mae', 'nascimento_mae', 'ocupacao', 'nro_consultas_prenatal', 'cesaria_antes_parto', 'duracao_gestacao', 'gravidez', 'local_nascimento', 'parto', 'trabalho_parto', 'apresentacao_crianca', 'classe_robson', 'cid_anomalia', 'sexo', 'raca']"
   ]
  },
  {
   "cell_type": "code",
   "execution_count": 78,
   "id": "e0763b2c",
   "metadata": {},
   "outputs": [],
   "source": [
    "# Lidando com dados ausentes.\n",
    "pipeline_atr_numericos = Pipeline([\n",
    "    ('imputer', SimpleImputer(strategy='mean')),\n",
    "    ('scaler', StandardScaler()),\n",
    "])\n",
    "\n",
    "preproc_completo = ColumnTransformer([\n",
    "    ('numericos', pipeline_atr_numericos, nomes_atributos_numericos),\n",
    "    ('categoricos', OneHotEncoder(), nomes_atributos_categoricos),\n",
    "], sparse_threshold = 0)"
   ]
  },
  {
   "cell_type": "code",
   "execution_count": 79,
   "id": "4abc806e",
   "metadata": {},
   "outputs": [],
   "source": [
    "# Pré-processamento do conjunto de treino.\n",
    "X_treino = preproc_completo.fit_transform(df_treino)\n",
    "\n",
    "# Pré-processamento do conjunto de teste.\n",
    "X_teste = preproc_completo.transform(df_teste)\n",
    "\n",
    "# Coluna alvo para os conjuntos de treino e teste.\n",
    "y_treino = df_treino_labels.values\n",
    "y_teste = df_teste_labels.values"
   ]
  },
  {
   "cell_type": "markdown",
   "id": "79b1b40f",
   "metadata": {},
   "source": [
    "### Predição por Árvores de Decisão"
   ]
  },
  {
   "cell_type": "code",
   "execution_count": null,
   "id": "6673b8df",
   "metadata": {},
   "outputs": [],
   "source": [
    "# Importa a árvore de decisão.\n",
    "from sklearn.tree import DecisionTreeClassifier\n",
    "\n",
    "arvore = DecisionTreeClassifier(max_depth = 5)\n",
    "arvore.fit(X_treino, y_treino)\n",
    "arvore.classes_"
   ]
  }
 ],
 "metadata": {
  "interpreter": {
   "hash": "98060e452df23478653dc1f4d7c6fe03aec9d78a05ff8ff0943931bee7632d24"
  },
  "kernelspec": {
   "display_name": "Python 3",
   "language": "python",
   "name": "python3"
  },
  "language_info": {
   "codemirror_mode": {
    "name": "ipython",
    "version": 3
   },
   "file_extension": ".py",
   "mimetype": "text/x-python",
   "name": "python",
   "nbconvert_exporter": "python",
   "pygments_lexer": "ipython3",
   "version": "3.8.8"
  }
 },
 "nbformat": 4,
 "nbformat_minor": 5
}
